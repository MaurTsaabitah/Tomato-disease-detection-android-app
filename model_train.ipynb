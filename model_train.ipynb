{
  "cells": [
    {
      "cell_type": "code",
      "execution_count": null,
      "metadata": {
        "colab": {
          "base_uri": "https://localhost:8080/"
        },
        "id": "h2j30pj6YvVR",
        "outputId": "d8ca40ec-9ce7-4ebe-bd7b-9d95c8480444"
      },
      "outputs": [
        {
          "output_type": "stream",
          "name": "stdout",
          "text": [
            "Drive already mounted at /content/drive; to attempt to forcibly remount, call drive.mount(\"/content/drive\", force_remount=True).\n"
          ]
        }
      ],
      "source": [
        "from google.colab import drive\n",
        "\n",
        "drive.mount ('/content/drive')"
      ]
    },
    {
      "cell_type": "code",
      "execution_count": null,
      "metadata": {
        "colab": {
          "base_uri": "https://localhost:8080/"
        },
        "id": "uKIWy4A1Zv4F",
        "outputId": "eda4fc16-f472-4de3-d246-a14384695aca"
      },
      "outputs": [
        {
          "output_type": "stream",
          "name": "stdout",
          "text": [
            "model1_dauntomat.h5  model2_dauntomat.h5  skripsi.ipynb  train\n"
          ]
        }
      ],
      "source": [
        "!ls \"/content/drive/MyDrive/skripsi\""
      ]
    },
    {
      "cell_type": "code",
      "execution_count": null,
      "metadata": {
        "colab": {
          "base_uri": "https://localhost:8080/"
        },
        "id": "_7Ay2pLxaGXX",
        "outputId": "1146645a-2a55-4068-d3fc-59ebf19ad254"
      },
      "outputs": [
        {
          "output_type": "stream",
          "name": "stdout",
          "text": [
            " Tomato___Bacterial_spot   Tomato___Septoria_leaf_spot\n",
            " Tomato___Early_blight\t  'Tomato___Spider_mites Two-spotted_spider_mite'\n",
            " Tomato___healthy\t   Tomato___Target_Spot\n",
            " Tomato___Late_blight\t   Tomato___Tomato_mosaic_virus\n",
            " Tomato___Leaf_Mold\t   Tomato___Tomato_Yellow_Leaf_Curl_Virus\n"
          ]
        }
      ],
      "source": [
        "!ls \"/content/drive/MyDrive/skripsi/train\""
      ]
    },
    {
      "cell_type": "code",
      "execution_count": null,
      "metadata": {
        "id": "_51NlagZaYQF"
      },
      "outputs": [],
      "source": [
        "import tensorflow as tf\n",
        "from keras.preprocessing import image\n",
        "from tensorflow.keras.utils import img_to_array, array_to_img\n",
        "from keras.optimizers import Adam\n",
        "from keras.models import Sequential\n",
        "from keras.layers import Conv2D, MaxPooling2D\n",
        "from keras.layers import Activation, Flatten, Dropout, Dense\n",
        "from sklearn.model_selection import train_test_split\n",
        "from keras.models import model_from_json\n",
        "from keras.utils import to_categorical\n",
        "import numpy as np\n",
        "import pandas as pd\n",
        "import matplotlib.pyplot as plt\n",
        "from matplotlib.image import imread\n",
        "import cv2\n",
        "import random"
      ]
    },
    {
      "cell_type": "code",
      "execution_count": null,
      "metadata": {
        "colab": {
          "base_uri": "https://localhost:8080/"
        },
        "id": "jAU8AcLEb-sC",
        "outputId": "fcae3e05-6b0b-42a8-bb24-1ce8abff0a72"
      },
      "outputs": [
        {
          "output_type": "stream",
          "name": "stdout",
          "text": [
            "2.15.0\n"
          ]
        }
      ],
      "source": [
        "print(tf.__version__)"
      ]
    },
    {
      "cell_type": "code",
      "execution_count": null,
      "metadata": {
        "colab": {
          "base_uri": "https://localhost:8080/"
        },
        "id": "wrCjjXj0PXBM",
        "outputId": "25383bb1-eecd-42b3-96d1-40a55a323068"
      },
      "outputs": [
        {
          "output_type": "stream",
          "name": "stdout",
          "text": [
            "Found 5002 files belonging to 10 classes.\n"
          ]
        }
      ],
      "source": [
        "dataset = tf.keras.preprocessing.image_dataset_from_directory(\n",
        "    '/content/drive/MyDrive/skripsi/train',\n",
        "    batch_size=32,\n",
        "    image_size=(256, 256),\n",
        "    shuffle=True\n",
        ")"
      ]
    },
    {
      "cell_type": "code",
      "execution_count": null,
      "metadata": {
        "id": "S40R1V3iO97b"
      },
      "outputs": [],
      "source": [
        "BATCH_SIZE = 32\n",
        "IMAGE_SIZE = 256\n",
        "CHANNELS=3\n",
        "EPOCHS=50"
      ]
    },
    {
      "cell_type": "code",
      "execution_count": null,
      "metadata": {
        "colab": {
          "base_uri": "https://localhost:8080/"
        },
        "id": "-qtNtwxmPqRj",
        "outputId": "d71fd933-44d7-4dbf-fb06-2fb049f1afac"
      },
      "outputs": [
        {
          "output_type": "execute_result",
          "data": {
            "text/plain": [
              "['Tomato___Bacterial_spot',\n",
              " 'Tomato___Early_blight',\n",
              " 'Tomato___Late_blight',\n",
              " 'Tomato___Leaf_Mold',\n",
              " 'Tomato___Septoria_leaf_spot',\n",
              " 'Tomato___Spider_mites Two-spotted_spider_mite',\n",
              " 'Tomato___Target_Spot',\n",
              " 'Tomato___Tomato_Yellow_Leaf_Curl_Virus',\n",
              " 'Tomato___Tomato_mosaic_virus',\n",
              " 'Tomato___healthy']"
            ]
          },
          "metadata": {},
          "execution_count": 8
        }
      ],
      "source": [
        "class_names = dataset.class_names\n",
        "class_names"
      ]
    },
    {
      "cell_type": "code",
      "execution_count": null,
      "metadata": {
        "id": "00n3kKZZRoVd"
      },
      "outputs": [],
      "source": [
        "def get_dataset_partitions_tf(ds, train_split=0.8, val_split=0.1, test_split=0.1, shuffle=True, shuffle_size=5000):\n",
        "    assert (train_split + test_split + val_split) == 1\n",
        "\n",
        "    ds_size = len(ds)\n",
        "\n",
        "    if shuffle:\n",
        "        ds = ds.shuffle(shuffle_size, seed=12)\n",
        "\n",
        "    train_size = int(train_split * ds_size)\n",
        "    val_size = int(val_split * ds_size)\n",
        "\n",
        "    train_ds = ds.take(train_size)\n",
        "    val_ds = ds.skip(train_size).take(val_size)\n",
        "    test_ds = ds.skip(train_size).skip(val_size)\n",
        "\n",
        "    return train_ds, val_ds, test_ds"
      ]
    },
    {
      "cell_type": "code",
      "execution_count": null,
      "metadata": {
        "id": "s-7rjPLyg6xV"
      },
      "outputs": [],
      "source": [
        "train_ds, val_ds, test_ds = get_dataset_partitions_tf(dataset)"
      ]
    },
    {
      "cell_type": "code",
      "execution_count": null,
      "metadata": {
        "colab": {
          "base_uri": "https://localhost:8080/"
        },
        "id": "bgc2D6SffuLO",
        "outputId": "1e71634c-c520-47f5-86ce-ea605f12ff6d"
      },
      "outputs": [
        {
          "output_type": "execute_result",
          "data": {
            "text/plain": [
              "125"
            ]
          },
          "metadata": {},
          "execution_count": 11
        }
      ],
      "source": [
        "len(train_ds)"
      ]
    },
    {
      "cell_type": "code",
      "execution_count": null,
      "metadata": {
        "colab": {
          "base_uri": "https://localhost:8080/"
        },
        "id": "3MXLN8Jgg2SS",
        "outputId": "444d0756-4c88-49b5-8371-1cc105065d1e"
      },
      "outputs": [
        {
          "output_type": "execute_result",
          "data": {
            "text/plain": [
              "15"
            ]
          },
          "metadata": {},
          "execution_count": 11
        }
      ],
      "source": [
        "len(val_ds)"
      ]
    },
    {
      "cell_type": "code",
      "execution_count": null,
      "metadata": {
        "colab": {
          "base_uri": "https://localhost:8080/"
        },
        "id": "lqUblQKlg7Lu",
        "outputId": "27c41b24-5224-445f-c24b-0404673c5c63"
      },
      "outputs": [
        {
          "output_type": "execute_result",
          "data": {
            "text/plain": [
              "17"
            ]
          },
          "metadata": {},
          "execution_count": 12
        }
      ],
      "source": [
        "len(test_ds)"
      ]
    },
    {
      "cell_type": "code",
      "execution_count": null,
      "metadata": {
        "id": "MqaDWQEOgyel"
      },
      "outputs": [],
      "source": [
        "train_ds = train_ds.cache().shuffle(1000).prefetch(buffer_size=tf.data.AUTOTUNE)\n",
        "val_ds = val_ds.cache().shuffle(1000).prefetch(buffer_size=tf.data.AUTOTUNE)\n",
        "test_ds = test_ds.cache().shuffle(1000).prefetch(buffer_size=tf.data.AUTOTUNE)"
      ]
    },
    {
      "cell_type": "code",
      "execution_count": null,
      "metadata": {
        "id": "9FDsbuz1oS3E"
      },
      "outputs": [],
      "source": [
        "from tensorflow.keras import models, layers, optimizers, regularizers\n",
        "from tensorflow.keras.callbacks import EarlyStopping, ReduceLROnPlateau"
      ]
    },
    {
      "cell_type": "code",
      "execution_count": null,
      "metadata": {
        "id": "7-NZHGWKmR6o"
      },
      "outputs": [],
      "source": [
        "resize_and_rescale = tf.keras.Sequential([\n",
        "  layers.experimental.preprocessing.Resizing(IMAGE_SIZE, IMAGE_SIZE),\n",
        "  layers.experimental.preprocessing.Rescaling(1.0/255),\n",
        "])"
      ]
    },
    {
      "cell_type": "code",
      "source": [
        "from tensorflow.keras.callbacks import ReduceLROnPlateau\n",
        "\n",
        "lr_reduction = ReduceLROnPlateau(monitor='val_loss',\n",
        "                                 patience=2,\n",
        "                                 verbose=1,\n",
        "                                 factor=0.5,\n",
        "                                 min_lr=0.00001)"
      ],
      "metadata": {
        "id": "rYN6mQDwhKMt"
      },
      "execution_count": null,
      "outputs": []
    },
    {
      "cell_type": "code",
      "execution_count": null,
      "metadata": {
        "id": "wFimMFoEpveC"
      },
      "outputs": [],
      "source": [
        "input_shape = (BATCH_SIZE, IMAGE_SIZE, IMAGE_SIZE, CHANNELS)\n",
        "n_classes = 10\n",
        "\n",
        "model = models.Sequential([\n",
        "    layers.InputLayer(input_shape=(IMAGE_SIZE, IMAGE_SIZE, CHANNELS)),\n",
        "    resize_and_rescale,\n",
        "    layers.Conv2D(16, kernel_size=(3,3), activation='relu'),\n",
        "    layers.BatchNormalization(),\n",
        "    layers.MaxPooling2D((2, 2)),\n",
        "    layers.Conv2D(32, kernel_size=(3, 3), activation='relu'),\n",
        "    layers.BatchNormalization(),\n",
        "    layers.MaxPooling2D((2, 2)),\n",
        "    layers.Conv2D(64, kernel_size=(3, 3), activation='relu'),\n",
        "    layers.BatchNormalization(),\n",
        "    layers.MaxPooling2D((2, 2)),\n",
        "    layers.Conv2D(128, kernel_size=(3, 3), activation='relu'),\n",
        "    layers.BatchNormalization(),\n",
        "    layers.MaxPooling2D((2, 2)),\n",
        "    layers.Flatten(),\n",
        "    layers.Dense(128, activation='relu', kernel_regularizer=regularizers.l2(0.01)),\n",
        "    layers.Dropout(0.5),\n",
        "    layers.Dense(n_classes, activation='softmax', kernel_regularizer=regularizers.l2(0.01)),\n",
        "])\n",
        "\n",
        "\n",
        "model.build(input_shape=input_shape)"
      ]
    },
    {
      "cell_type": "code",
      "execution_count": null,
      "metadata": {
        "colab": {
          "base_uri": "https://localhost:8080/"
        },
        "id": "wuLuJU0hhGJg",
        "outputId": "47ef6b08-96f9-4666-9fde-f70ec04a0855"
      },
      "outputs": [
        {
          "output_type": "stream",
          "name": "stdout",
          "text": [
            "Model: \"sequential_1\"\n",
            "_________________________________________________________________\n",
            " Layer (type)                Output Shape              Param #   \n",
            "=================================================================\n",
            " sequential (Sequential)     (None, 256, 256, 3)       0         \n",
            "                                                                 \n",
            " conv2d (Conv2D)             (None, 254, 254, 16)      448       \n",
            "                                                                 \n",
            " batch_normalization (Batch  (None, 254, 254, 16)      64        \n",
            " Normalization)                                                  \n",
            "                                                                 \n",
            " max_pooling2d (MaxPooling2  (None, 127, 127, 16)      0         \n",
            " D)                                                              \n",
            "                                                                 \n",
            " conv2d_1 (Conv2D)           (None, 125, 125, 32)      4640      \n",
            "                                                                 \n",
            " batch_normalization_1 (Bat  (None, 125, 125, 32)      128       \n",
            " chNormalization)                                                \n",
            "                                                                 \n",
            " max_pooling2d_1 (MaxPoolin  (None, 62, 62, 32)        0         \n",
            " g2D)                                                            \n",
            "                                                                 \n",
            " conv2d_2 (Conv2D)           (None, 60, 60, 64)        18496     \n",
            "                                                                 \n",
            " batch_normalization_2 (Bat  (None, 60, 60, 64)        256       \n",
            " chNormalization)                                                \n",
            "                                                                 \n",
            " max_pooling2d_2 (MaxPoolin  (None, 30, 30, 64)        0         \n",
            " g2D)                                                            \n",
            "                                                                 \n",
            " conv2d_3 (Conv2D)           (None, 28, 28, 128)       73856     \n",
            "                                                                 \n",
            " batch_normalization_3 (Bat  (None, 28, 28, 128)       512       \n",
            " chNormalization)                                                \n",
            "                                                                 \n",
            " max_pooling2d_3 (MaxPoolin  (None, 14, 14, 128)       0         \n",
            " g2D)                                                            \n",
            "                                                                 \n",
            " flatten (Flatten)           (None, 25088)             0         \n",
            "                                                                 \n",
            " dense (Dense)               (None, 128)               3211392   \n",
            "                                                                 \n",
            " dropout (Dropout)           (None, 128)               0         \n",
            "                                                                 \n",
            " dense_1 (Dense)             (None, 10)                1290      \n",
            "                                                                 \n",
            "=================================================================\n",
            "Total params: 3311082 (12.63 MB)\n",
            "Trainable params: 3310602 (12.63 MB)\n",
            "Non-trainable params: 480 (1.88 KB)\n",
            "_________________________________________________________________\n"
          ]
        }
      ],
      "source": [
        "model.summary()"
      ]
    },
    {
      "cell_type": "code",
      "execution_count": null,
      "metadata": {
        "id": "dn0qssl15KRI"
      },
      "outputs": [],
      "source": [
        "model.compile(\n",
        "    optimizer='adam',\n",
        "    loss=tf.keras.losses.SparseCategoricalCrossentropy(from_logits=False),\n",
        "    metrics=['accuracy']\n",
        ")\n",
        "\n"
      ]
    },
    {
      "cell_type": "code",
      "execution_count": null,
      "metadata": {
        "id": "w_FtfMa92j_w"
      },
      "outputs": [],
      "source": [
        "early_stopping = EarlyStopping(monitor='val_loss', patience=5, restore_best_weights=True)\n",
        "reduce_lr = ReduceLROnPlateau(monitor='val_loss', factor=0.2, patience=3, min_lr=0.00001)"
      ]
    },
    {
      "cell_type": "code",
      "execution_count": null,
      "metadata": {
        "id": "0Q-mRBQVB-RE",
        "outputId": "10ba706d-660a-4a96-f55f-d3bece32b7b3",
        "colab": {
          "base_uri": "https://localhost:8080/"
        }
      },
      "outputs": [
        {
          "output_type": "stream",
          "name": "stdout",
          "text": [
            "Epoch 1/50\n",
            "125/125 [==============================] - 54s 203ms/step - loss: 5.2723 - accuracy: 0.3037 - val_loss: 12.5061 - val_accuracy: 0.0812 - lr: 0.0010\n",
            "Epoch 2/50\n",
            "125/125 [==============================] - 6s 50ms/step - loss: 3.4353 - accuracy: 0.4108 - val_loss: 7.6384 - val_accuracy: 0.1750 - lr: 0.0010\n",
            "Epoch 3/50\n",
            "125/125 [==============================] - 7s 56ms/step - loss: 2.7088 - accuracy: 0.4789 - val_loss: 7.8024 - val_accuracy: 0.1896 - lr: 0.0010\n",
            "Epoch 4/50\n",
            "125/125 [==============================] - 6s 50ms/step - loss: 2.4762 - accuracy: 0.5269 - val_loss: 2.9950 - val_accuracy: 0.4771 - lr: 0.0010\n",
            "Epoch 5/50\n",
            "125/125 [==============================] - 6s 52ms/step - loss: 2.2662 - accuracy: 0.5646 - val_loss: 2.0198 - val_accuracy: 0.6208 - lr: 0.0010\n",
            "Epoch 6/50\n",
            "125/125 [==============================] - 6s 50ms/step - loss: 2.1949 - accuracy: 0.5792 - val_loss: 2.8910 - val_accuracy: 0.5333 - lr: 0.0010\n",
            "Epoch 7/50\n",
            "125/125 [==============================] - 6s 52ms/step - loss: 1.9689 - accuracy: 0.6350 - val_loss: 1.5486 - val_accuracy: 0.7437 - lr: 0.0010\n",
            "Epoch 8/50\n",
            "125/125 [==============================] - 6s 50ms/step - loss: 1.8462 - accuracy: 0.6513 - val_loss: 1.6105 - val_accuracy: 0.8083 - lr: 0.0010\n",
            "Epoch 9/50\n",
            "125/125 [==============================] - ETA: 0s - loss: 1.7679 - accuracy: 0.6895\n",
            "Epoch 9: ReduceLROnPlateau reducing learning rate to 0.0005000000237487257.\n",
            "125/125 [==============================] - 6s 52ms/step - loss: 1.7679 - accuracy: 0.6895 - val_loss: 1.6983 - val_accuracy: 0.7021 - lr: 0.0010\n",
            "Epoch 10/50\n",
            "125/125 [==============================] - 6s 51ms/step - loss: 1.3310 - accuracy: 0.7803 - val_loss: 0.9733 - val_accuracy: 0.8750 - lr: 5.0000e-04\n",
            "Epoch 11/50\n",
            "125/125 [==============================] - 6s 51ms/step - loss: 1.0357 - accuracy: 0.8213 - val_loss: 0.9648 - val_accuracy: 0.8000 - lr: 5.0000e-04\n",
            "Epoch 12/50\n",
            "125/125 [==============================] - 6s 52ms/step - loss: 0.9343 - accuracy: 0.8487 - val_loss: 0.7302 - val_accuracy: 0.9062 - lr: 5.0000e-04\n",
            "Epoch 13/50\n",
            "125/125 [==============================] - 6s 51ms/step - loss: 0.9223 - accuracy: 0.8509 - val_loss: 1.1106 - val_accuracy: 0.7937 - lr: 5.0000e-04\n",
            "Epoch 14/50\n",
            "125/125 [==============================] - ETA: 0s - loss: 0.9469 - accuracy: 0.8567\n",
            "Epoch 14: ReduceLROnPlateau reducing learning rate to 0.0002500000118743628.\n",
            "125/125 [==============================] - 7s 52ms/step - loss: 0.9469 - accuracy: 0.8567 - val_loss: 0.9311 - val_accuracy: 0.8562 - lr: 5.0000e-04\n",
            "Epoch 15/50\n",
            "125/125 [==============================] - 7s 53ms/step - loss: 0.7506 - accuracy: 0.9017 - val_loss: 0.6215 - val_accuracy: 0.9312 - lr: 2.5000e-04\n",
            "Epoch 16/50\n",
            "125/125 [==============================] - 6s 51ms/step - loss: 0.5579 - accuracy: 0.9377 - val_loss: 0.4640 - val_accuracy: 0.9542 - lr: 2.5000e-04\n",
            "Epoch 17/50\n",
            "125/125 [==============================] - 7s 53ms/step - loss: 0.4910 - accuracy: 0.9424 - val_loss: 0.5659 - val_accuracy: 0.9083 - lr: 2.5000e-04\n",
            "Epoch 18/50\n",
            "124/125 [============================>.] - ETA: 0s - loss: 0.4537 - accuracy: 0.9529\n",
            "Epoch 18: ReduceLROnPlateau reducing learning rate to 0.0001250000059371814.\n",
            "125/125 [==============================] - 6s 51ms/step - loss: 0.4542 - accuracy: 0.9525 - val_loss: 0.4763 - val_accuracy: 0.9333 - lr: 2.5000e-04\n",
            "Epoch 19/50\n",
            "125/125 [==============================] - 7s 53ms/step - loss: 0.3886 - accuracy: 0.9673 - val_loss: 0.3401 - val_accuracy: 0.9729 - lr: 1.2500e-04\n",
            "Epoch 20/50\n",
            "125/125 [==============================] - 7s 53ms/step - loss: 0.3416 - accuracy: 0.9718 - val_loss: 0.3156 - val_accuracy: 0.9708 - lr: 1.2500e-04\n",
            "Epoch 21/50\n",
            "125/125 [==============================] - 6s 51ms/step - loss: 0.3118 - accuracy: 0.9761 - val_loss: 0.2816 - val_accuracy: 0.9729 - lr: 1.2500e-04\n",
            "Epoch 22/50\n",
            "125/125 [==============================] - 7s 53ms/step - loss: 0.2802 - accuracy: 0.9849 - val_loss: 0.2896 - val_accuracy: 0.9688 - lr: 1.2500e-04\n",
            "Epoch 23/50\n",
            "125/125 [==============================] - 7s 53ms/step - loss: 0.2714 - accuracy: 0.9794 - val_loss: 0.2551 - val_accuracy: 0.9792 - lr: 1.2500e-04\n",
            "Epoch 24/50\n",
            "125/125 [==============================] - 6s 52ms/step - loss: 0.2546 - accuracy: 0.9832 - val_loss: 0.2601 - val_accuracy: 0.9646 - lr: 1.2500e-04\n",
            "Epoch 25/50\n",
            "125/125 [==============================] - 8s 62ms/step - loss: 0.2452 - accuracy: 0.9809 - val_loss: 0.2514 - val_accuracy: 0.9729 - lr: 1.2500e-04\n",
            "Epoch 26/50\n",
            "125/125 [==============================] - 7s 53ms/step - loss: 0.2361 - accuracy: 0.9864 - val_loss: 0.2377 - val_accuracy: 0.9729 - lr: 1.2500e-04\n",
            "Epoch 27/50\n",
            "125/125 [==============================] - 7s 53ms/step - loss: 0.2343 - accuracy: 0.9842 - val_loss: 0.2603 - val_accuracy: 0.9667 - lr: 1.2500e-04\n",
            "Epoch 28/50\n",
            "125/125 [==============================] - ETA: 0s - loss: 0.2204 - accuracy: 0.9869\n",
            "Epoch 28: ReduceLROnPlateau reducing learning rate to 6.25000029685907e-05.\n",
            "125/125 [==============================] - 7s 53ms/step - loss: 0.2204 - accuracy: 0.9869 - val_loss: 0.2626 - val_accuracy: 0.9646 - lr: 1.2500e-04\n",
            "Epoch 29/50\n",
            "125/125 [==============================] - 7s 52ms/step - loss: 0.2011 - accuracy: 0.9940 - val_loss: 0.2137 - val_accuracy: 0.9750 - lr: 6.2500e-05\n",
            "Epoch 30/50\n",
            "125/125 [==============================] - 7s 53ms/step - loss: 0.1873 - accuracy: 0.9942 - val_loss: 0.1967 - val_accuracy: 0.9729 - lr: 6.2500e-05\n",
            "Epoch 31/50\n",
            "125/125 [==============================] - 7s 53ms/step - loss: 0.1802 - accuracy: 0.9920 - val_loss: 0.1901 - val_accuracy: 0.9750 - lr: 6.2500e-05\n",
            "Epoch 32/50\n",
            "125/125 [==============================] - 7s 52ms/step - loss: 0.1715 - accuracy: 0.9937 - val_loss: 0.1848 - val_accuracy: 0.9792 - lr: 6.2500e-05\n",
            "Epoch 33/50\n",
            "125/125 [==============================] - 7s 53ms/step - loss: 0.1615 - accuracy: 0.9952 - val_loss: 0.1820 - val_accuracy: 0.9771 - lr: 6.2500e-05\n",
            "Epoch 34/50\n",
            "125/125 [==============================] - 6s 52ms/step - loss: 0.1551 - accuracy: 0.9952 - val_loss: 0.1724 - val_accuracy: 0.9771 - lr: 6.2500e-05\n",
            "Epoch 35/50\n",
            "125/125 [==============================] - 7s 53ms/step - loss: 0.1558 - accuracy: 0.9940 - val_loss: 0.1767 - val_accuracy: 0.9750 - lr: 6.2500e-05\n",
            "Epoch 36/50\n",
            "125/125 [==============================] - 6s 52ms/step - loss: 0.1514 - accuracy: 0.9952 - val_loss: 0.1674 - val_accuracy: 0.9771 - lr: 6.2500e-05\n",
            "Epoch 37/50\n",
            "125/125 [==============================] - 7s 53ms/step - loss: 0.1448 - accuracy: 0.9972 - val_loss: 0.1628 - val_accuracy: 0.9792 - lr: 6.2500e-05\n",
            "Epoch 38/50\n",
            "125/125 [==============================] - 6s 52ms/step - loss: 0.1412 - accuracy: 0.9955 - val_loss: 0.1632 - val_accuracy: 0.9792 - lr: 6.2500e-05\n",
            "Epoch 39/50\n",
            "125/125 [==============================] - 7s 53ms/step - loss: 0.1373 - accuracy: 0.9962 - val_loss: 0.1572 - val_accuracy: 0.9833 - lr: 6.2500e-05\n",
            "Epoch 40/50\n",
            "125/125 [==============================] - 6s 52ms/step - loss: 0.1437 - accuracy: 0.9922 - val_loss: 0.1648 - val_accuracy: 0.9729 - lr: 6.2500e-05\n",
            "Epoch 41/50\n",
            "125/125 [==============================] - ETA: 0s - loss: 0.1420 - accuracy: 0.9947\n",
            "Epoch 41: ReduceLROnPlateau reducing learning rate to 3.125000148429535e-05.\n",
            "125/125 [==============================] - 7s 53ms/step - loss: 0.1420 - accuracy: 0.9947 - val_loss: 0.1742 - val_accuracy: 0.9708 - lr: 6.2500e-05\n",
            "Epoch 42/50\n",
            "125/125 [==============================] - 7s 52ms/step - loss: 0.1339 - accuracy: 0.9972 - val_loss: 0.1560 - val_accuracy: 0.9771 - lr: 3.1250e-05\n",
            "Epoch 43/50\n",
            "125/125 [==============================] - 6s 52ms/step - loss: 0.1290 - accuracy: 0.9965 - val_loss: 0.1436 - val_accuracy: 0.9833 - lr: 3.1250e-05\n",
            "Epoch 44/50\n",
            "125/125 [==============================] - 7s 53ms/step - loss: 0.1269 - accuracy: 0.9967 - val_loss: 0.1454 - val_accuracy: 0.9792 - lr: 3.1250e-05\n",
            "Epoch 45/50\n",
            "125/125 [==============================] - 6s 52ms/step - loss: 0.1212 - accuracy: 0.9977 - val_loss: 0.1423 - val_accuracy: 0.9771 - lr: 3.1250e-05\n",
            "Epoch 46/50\n",
            "125/125 [==============================] - 7s 54ms/step - loss: 0.1226 - accuracy: 0.9970 - val_loss: 0.1412 - val_accuracy: 0.9792 - lr: 3.1250e-05\n",
            "Epoch 47/50\n",
            "125/125 [==============================] - 7s 52ms/step - loss: 0.1151 - accuracy: 0.9997 - val_loss: 0.1435 - val_accuracy: 0.9771 - lr: 3.1250e-05\n",
            "Epoch 48/50\n",
            "125/125 [==============================] - 7s 52ms/step - loss: 0.1160 - accuracy: 0.9977 - val_loss: 0.1358 - val_accuracy: 0.9812 - lr: 3.1250e-05\n",
            "Epoch 49/50\n",
            "125/125 [==============================] - 7s 53ms/step - loss: 0.1136 - accuracy: 0.9975 - val_loss: 0.1329 - val_accuracy: 0.9812 - lr: 3.1250e-05\n",
            "Epoch 50/50\n",
            "125/125 [==============================] - 6s 52ms/step - loss: 0.1120 - accuracy: 0.9972 - val_loss: 0.1345 - val_accuracy: 0.9833 - lr: 3.1250e-05\n"
          ]
        }
      ],
      "source": [
        "history = model.fit(\n",
        "    train_ds,\n",
        "    batch_size=BATCH_SIZE,\n",
        "    validation_data=val_ds,\n",
        "    verbose=1,\n",
        "    epochs=50,\n",
        "    callbacks=[lr_reduction]\n",
        ")"
      ]
    },
    {
      "cell_type": "code",
      "execution_count": null,
      "metadata": {
        "id": "Ej_TVg3bALaQ"
      },
      "outputs": [],
      "source": [
        "acc = history.history['accuracy']\n",
        "val_acc = history.history['val_accuracy']\n",
        "\n",
        "loss = history.history['loss']\n",
        "val_loss = history.history['val_loss']"
      ]
    },
    {
      "cell_type": "code",
      "execution_count": null,
      "metadata": {
        "id": "pFwd1XmD_v1w"
      },
      "outputs": [],
      "source": [
        "scores=model.evaluate(test_ds)"
      ]
    },
    {
      "cell_type": "code",
      "source": [
        "history"
      ],
      "metadata": {
        "id": "nYsdbR7ScYbt"
      },
      "execution_count": null,
      "outputs": []
    },
    {
      "cell_type": "code",
      "source": [
        "history.params"
      ],
      "metadata": {
        "id": "7539IGcBcZdw"
      },
      "execution_count": null,
      "outputs": []
    },
    {
      "cell_type": "code",
      "source": [
        "history.history.keys()"
      ],
      "metadata": {
        "id": "HhAp_wMKcby-"
      },
      "execution_count": null,
      "outputs": []
    },
    {
      "cell_type": "code",
      "source": [
        "type(history.history['loss'])"
      ],
      "metadata": {
        "id": "1hc5xXgocc1i",
        "colab": {
          "base_uri": "https://localhost:8080/"
        },
        "outputId": "eb85ce89-4b33-434f-e010-8016d48d90fc"
      },
      "execution_count": null,
      "outputs": [
        {
          "output_type": "execute_result",
          "data": {
            "text/plain": [
              "list"
            ]
          },
          "metadata": {},
          "execution_count": 23
        }
      ]
    },
    {
      "cell_type": "code",
      "source": [
        "len(history.history['loss'])"
      ],
      "metadata": {
        "id": "9E-CaUHocfu6",
        "colab": {
          "base_uri": "https://localhost:8080/"
        },
        "outputId": "5de63b16-308a-4eae-da82-d2da728500e7"
      },
      "execution_count": null,
      "outputs": [
        {
          "output_type": "execute_result",
          "data": {
            "text/plain": [
              "50"
            ]
          },
          "metadata": {},
          "execution_count": 24
        }
      ]
    },
    {
      "cell_type": "code",
      "source": [
        "history.history['loss'][:5]"
      ],
      "metadata": {
        "id": "m9MrelDJciBW",
        "colab": {
          "base_uri": "https://localhost:8080/"
        },
        "outputId": "85e7c058-c2b7-4fcd-b5e5-748db938e264"
      },
      "execution_count": null,
      "outputs": [
        {
          "output_type": "execute_result",
          "data": {
            "text/plain": [
              "[5.272276878356934,\n",
              " 3.4353041648864746,\n",
              " 2.708820343017578,\n",
              " 2.4762094020843506,\n",
              " 2.2662482261657715]"
            ]
          },
          "metadata": {},
          "execution_count": 25
        }
      ]
    },
    {
      "cell_type": "code",
      "source": [
        "plt.figure(figsize=(10, 5))\n",
        "plt.subplot(1, 2, 1)\n",
        "plt.plot(range(EPOCHS), acc, label='Training Accuracy')\n",
        "plt.plot(range(EPOCHS), val_acc, label='Validation Accuracy')\n",
        "plt.legend(loc='lower right')\n",
        "plt.title('Training and Validation Accuracy')\n",
        "\n",
        "plt.subplot(1, 2, 2)\n",
        "plt.plot(range(EPOCHS), loss, label='Training Loss')\n",
        "plt.plot(range(EPOCHS), val_loss, label='Validation Loss')\n",
        "plt.legend(loc='upper right')\n",
        "plt.title('Training and Validation Loss')\n",
        "plt.show()"
      ],
      "metadata": {
        "id": "kAF8rv8tck9G",
        "colab": {
          "base_uri": "https://localhost:8080/",
          "height": 468
        },
        "outputId": "7acdad77-f4ad-4861-bbce-6bd09333ec17"
      },
      "execution_count": null,
      "outputs": [
        {
          "output_type": "display_data",
          "data": {
            "text/plain": [
              "<Figure size 1000x500 with 2 Axes>"
            ],
            "image/png": "[encoded data removed]"
          },
          "metadata": {}
        }
      ]
    },
    {
      "cell_type": "code",
      "source": [
        "for images_batch, labels_batch in test_ds.take(1):\n",
        "\n",
        "    first_image = images_batch[0].numpy().astype('uint8')\n",
        "    first_label = labels_batch[0].numpy()\n",
        "\n",
        "    print(\"first image to predict\")\n",
        "    plt.imshow(first_image)\n",
        "    print(\"actual label:\",class_names[first_label])\n",
        "\n",
        "    batch_prediction = model.predict(images_batch)\n",
        "    print(\"predicted label:\",class_names[np.argmax(batch_prediction[0])])"
      ],
      "metadata": {
        "id": "_fQTITKNcowt"
      },
      "execution_count": null,
      "outputs": []
    },
    {
      "cell_type": "code",
      "source": [
        "def predict(model, img):\n",
        "    img_array = tf.keras.preprocessing.image.img_to_array(images[i].numpy())\n",
        "    img_array = tf.expand_dims(img_array, 0)\n",
        "\n",
        "    predictions = model.predict(img_array)\n",
        "\n",
        "    predicted_class = class_names[np.argmax(predictions[0])]\n",
        "    confidence = round(100 * (np.max(predictions[0])), 2)\n",
        "    return predicted_class, confidence"
      ],
      "metadata": {
        "id": "zN42Os26c1YC"
      },
      "execution_count": null,
      "outputs": []
    },
    {
      "cell_type": "code",
      "source": [
        "plt.figure(figsize=(15, 15))\n",
        "for images, labels in test_ds.take(1):\n",
        "    for i in range(9):\n",
        "        ax = plt.subplot(3, 3, i + 1)\n",
        "        plt.imshow(images[i].numpy().astype(\"uint8\"))\n",
        "\n",
        "        predicted_class, confidence = predict(model, images[i].numpy())\n",
        "        actual_class = class_names[labels[i]]\n",
        "\n",
        "        plt.title(f\"Actual: {actual_class},\\n Predicted: {predicted_class}.\\n Confidence: {confidence}%\")\n",
        "\n",
        "        plt.axis(\"off\")"
      ],
      "metadata": {
        "id": "baz4LD4xc5R4"
      },
      "execution_count": null,
      "outputs": []
    },
    {
      "cell_type": "code",
      "source": [
        "model.save('/content/drive/MyDrive/skripsi/model2_dauntomat.h5')"
      ],
      "metadata": {
        "id": "lbCYWzvKdBTz",
        "colab": {
          "base_uri": "https://localhost:8080/"
        },
        "outputId": "1d5a2596-b259-41df-a421-1c0789ea4557"
      },
      "execution_count": null,
      "outputs": [
        {
          "output_type": "stream",
          "name": "stderr",
          "text": [
            "/usr/local/lib/python3.10/dist-packages/keras/src/engine/training.py:3103: UserWarning: You are saving your model as an HDF5 file via `model.save()`. This file format is considered legacy. We recommend using instead the native Keras format, e.g. `model.save('my_model.keras')`.\n",
            "  saving_api.save_model(\n"
          ]
        }
      ]
    }
  ],
  "metadata": {
    "colab": {
      "provenance": [],
      "gpuType": "T4"
    },
    "kernelspec": {
      "display_name": "Python 3",
      "name": "python3"
    },
    "language_info": {
      "name": "python"
    },
    "accelerator": "GPU"
  },
  "nbformat": 4,
  "nbformat_minor": 0
}